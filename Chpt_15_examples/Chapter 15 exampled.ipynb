{
 "cells": [
  {
   "cell_type": "markdown",
   "id": "12ebb25b",
   "metadata": {},
   "source": [
    "Alexandra Coffin:\n",
    "Data Analytics:\n",
    "2023/2/27:\n",
    "Dr. Case:\n",
    "Module 7"
   ]
  },
  {
   "cell_type": "markdown",
   "id": "7feb207b",
   "metadata": {},
   "source": [
    "# Chapter 15: Machine Learning:\n",
    "## Classification, Regression & Clustering\n",
    "There are two main types of machine learning that are typcally taught, supervised machine learning, which works with labeled data, an unsupervised machine learning, which works with unlabeled data. The more phots the model is trained with, the greater the chance that the model will accuratly predict which new photos are the desired catagories. In this sectionw e will be exploring Scikit-learn and bundled datasets. "
   ]
  },
  {
   "cell_type": "markdown",
   "id": "50ac7094",
   "metadata": {},
   "source": [
    "# Imports"
   ]
  },
  {
   "cell_type": "code",
   "execution_count": 1,
   "id": "412ae132",
   "metadata": {},
   "outputs": [],
   "source": [
    "from sklearn.datasets import load_digits\n",
    "import matplotlib.pyplot as plt\n",
    "from sklearn.model_selection import train_test_split\n",
    "from sklearn.neighbors import KNeighborsClassifier\n",
    "from sklearn.metrics import confusion_matrix\n",
    "from sklearn.metrics import classification_report\n",
    "from warnings import simplefilter\n",
    "simplefilter(action='ignore', category=FutureWarning)\n",
    "import numpy as np"
   ]
  },
  {
   "cell_type": "markdown",
   "id": "f3c3c024",
   "metadata": {},
   "source": [
    "#### Note:\n",
    "The simple filter 'ignore' was added to ignore a number of errors warning:\n",
    "\n",
    "sklearn/neighbors/_classification.py:237: FutureWarning: Unlike other reduction functions (e.g. `skew`, `kurtosis`), the default behavior of `mode` typically preserves the axis it acts along. In SciPy 1.11.0, this behavior will change: the default value of `keepdims` will become False, the `axis` over which the statistic is taken will be eliminated, and the value None will no longer be accepted. Set `keepdims` to True or False to avoid this warning.\n",
    "  mode, _ = stats.mode(_y[neigh_ind, k], axis=1)"
   ]
  },
  {
   "cell_type": "markdown",
   "id": "c90c2cab",
   "metadata": {},
   "source": [
    "## Loading Dataset:"
   ]
  },
  {
   "cell_type": "code",
   "execution_count": 2,
   "id": "a6228d46",
   "metadata": {},
   "outputs": [],
   "source": [
    "digits = load_digits()"
   ]
  },
  {
   "cell_type": "code",
   "execution_count": 3,
   "id": "1bbb8e6a",
   "metadata": {
    "scrolled": true
   },
   "outputs": [
    {
     "name": "stdout",
     "output_type": "stream",
     "text": [
      ".. _digits_dataset:\n",
      "\n",
      "Optical recognition of handwritten digits dataset\n",
      "--------------------------------------------------\n",
      "\n",
      "**Data Set Characteristics:**\n",
      "\n",
      "    :Number of Instances: 1797\n",
      "    :Number of Attributes: 64\n",
      "    :Attribute Information: 8x8 image of integer pixels in the range 0..16.\n",
      "    :Missing Attribute Values: None\n",
      "    :Creator: E. Alpaydin (alpaydin '@' boun.edu.tr)\n",
      "    :Date: July; 1998\n",
      "\n",
      "This is a copy of the test set of the UCI ML hand-written digits datasets\n",
      "https://archive.ics.uci.edu/ml/datasets/Optical+Recognition+of+Handwritten+Digits\n",
      "\n",
      "The data set contains images of hand-written digits: 10 classes where\n",
      "each class refers to a digit.\n",
      "\n",
      "Preprocessing programs made available by NIST were used to extract\n",
      "normalized bitmaps of handwritten digits from a preprinted form. From a\n",
      "total of 43 people, 30 contributed to the training set and different 13\n",
      "to the test set. 32x32 bitmaps are divided into nonoverlapping blocks of\n",
      "4x4 and the number of on pixels are counted in each block. This generates\n",
      "an input matrix of 8x8 where each element is an integer in the range\n",
      "0..16. This reduces dimensionality and gives invariance to small\n",
      "distortions.\n",
      "\n",
      "For info on NIST preprocessing routines, see M. D. Garris, J. L. Blue, G.\n",
      "T. Candela, D. L. Dimmick, J. Geist, P. J. Grother, S. A. Janet, and C.\n",
      "L. Wilson, NIST Form-Based Handprint Recognition System, NISTIR 5469,\n",
      "1994.\n",
      "\n",
      ".. topic:: References\n",
      "\n",
      "  - C. Kaynak (1995) Methods of Combining Multiple Classifiers and Their\n",
      "    Applications to Handwritten Digit Recognition, MSc Thesis, Institute of\n",
      "    Graduate Studies in Science and Engineering, Bogazici University.\n",
      "  - E. Alpaydin, C. Kaynak (1998) Cascading Classifiers, Kybernetika.\n",
      "  - Ken Tang and Ponnuthurai N. Suganthan and Xi Yao and A. Kai Qin.\n",
      "    Linear dimensionalityreduction using relevance weighted LDA. School of\n",
      "    Electrical and Electronic Engineering Nanyang Technological University.\n",
      "    2005.\n",
      "  - Claudio Gentile. A New Approximate Maximal Margin Classification\n",
      "    Algorithm. NIPS. 2000.\n",
      "\n"
     ]
    }
   ],
   "source": [
    "print(digits.DESCR)"
   ]
  },
  {
   "cell_type": "markdown",
   "id": "b5039549",
   "metadata": {},
   "source": [
    "## Checking Sample & Target Size:"
   ]
  },
  {
   "cell_type": "code",
   "execution_count": 4,
   "id": "81a63629",
   "metadata": {},
   "outputs": [
    {
     "data": {
      "text/plain": [
       "array([0, 4, 1, 7, 4, 8, 2, 2, 4, 4, 1, 9, 7, 3, 2, 1, 2, 5])"
      ]
     },
     "execution_count": 4,
     "metadata": {},
     "output_type": "execute_result"
    }
   ],
   "source": [
    "digits.target[::100]"
   ]
  },
  {
   "cell_type": "code",
   "execution_count": 5,
   "id": "76093ede",
   "metadata": {},
   "outputs": [
    {
     "data": {
      "text/plain": [
       "(1797, 64)"
      ]
     },
     "execution_count": 5,
     "metadata": {},
     "output_type": "execute_result"
    }
   ],
   "source": [
    "digits.data.shape"
   ]
  },
  {
   "cell_type": "code",
   "execution_count": 6,
   "id": "2ecb121e",
   "metadata": {},
   "outputs": [
    {
     "data": {
      "text/plain": [
       "(1797,)"
      ]
     },
     "execution_count": 6,
     "metadata": {},
     "output_type": "execute_result"
    }
   ],
   "source": [
    "digits.target.shape"
   ]
  },
  {
   "cell_type": "markdown",
   "id": "892408ad",
   "metadata": {},
   "source": [
    "## Sample Digit Image:"
   ]
  },
  {
   "cell_type": "code",
   "execution_count": 7,
   "id": "f9c38106",
   "metadata": {},
   "outputs": [
    {
     "data": {
      "text/plain": [
       "array([[ 0.,  2.,  9., 15., 14.,  9.,  3.,  0.],\n",
       "       [ 0.,  4., 13.,  8.,  9., 16.,  8.,  0.],\n",
       "       [ 0.,  0.,  0.,  6., 14., 15.,  3.,  0.],\n",
       "       [ 0.,  0.,  0., 11., 14.,  2.,  0.,  0.],\n",
       "       [ 0.,  0.,  0.,  2., 15., 11.,  0.,  0.],\n",
       "       [ 0.,  0.,  0.,  0.,  2., 15.,  4.,  0.],\n",
       "       [ 0.,  1.,  5.,  6., 13., 16.,  6.,  0.],\n",
       "       [ 0.,  2., 12., 12., 13., 11.,  0.,  0.]])"
      ]
     },
     "execution_count": 7,
     "metadata": {},
     "output_type": "execute_result"
    }
   ],
   "source": [
    "digits.images[13]"
   ]
  },
  {
   "cell_type": "code",
   "execution_count": 8,
   "id": "dcc2e160",
   "metadata": {},
   "outputs": [
    {
     "data": {
      "text/plain": [
       "array([ 0.,  2.,  9., 15., 14.,  9.,  3.,  0.,  0.,  4., 13.,  8.,  9.,\n",
       "       16.,  8.,  0.,  0.,  0.,  0.,  6., 14., 15.,  3.,  0.,  0.,  0.,\n",
       "        0., 11., 14.,  2.,  0.,  0.,  0.,  0.,  0.,  2., 15., 11.,  0.,\n",
       "        0.,  0.,  0.,  0.,  0.,  2., 15.,  4.,  0.,  0.,  1.,  5.,  6.,\n",
       "       13., 16.,  6.,  0.,  0.,  2., 12., 12., 13., 11.,  0.,  0.])"
      ]
     },
     "execution_count": 8,
     "metadata": {},
     "output_type": "execute_result"
    }
   ],
   "source": [
    "digits.data[13]"
   ]
  },
  {
   "cell_type": "code",
   "execution_count": 9,
   "id": "08dbfcc0",
   "metadata": {},
   "outputs": [
    {
     "data": {
      "text/plain": [
       "array([[ 0.,  0.,  8., 16.,  5.,  0.,  0.,  0.],\n",
       "       [ 0.,  1., 13., 11., 16.,  0.,  0.,  0.],\n",
       "       [ 0.,  0., 10.,  0., 13.,  3.,  0.,  0.],\n",
       "       [ 0.,  0.,  3.,  1., 16.,  1.,  0.,  0.],\n",
       "       [ 0.,  0.,  0.,  9., 12.,  0.,  0.,  0.],\n",
       "       [ 0.,  0.,  3., 15.,  5.,  0.,  0.,  0.],\n",
       "       [ 0.,  0., 14., 15.,  8.,  8.,  3.,  0.],\n",
       "       [ 0.,  0.,  7., 12., 12., 12., 13.,  1.]])"
      ]
     },
     "execution_count": 9,
     "metadata": {},
     "output_type": "execute_result"
    }
   ],
   "source": [
    "digits.images[22]"
   ]
  },
  {
   "cell_type": "code",
   "execution_count": 10,
   "id": "c6562751",
   "metadata": {},
   "outputs": [
    {
     "data": {
      "text/plain": [
       "2"
      ]
     },
     "execution_count": 10,
     "metadata": {},
     "output_type": "execute_result"
    }
   ],
   "source": [
    "digits.target[22]"
   ]
  },
  {
   "cell_type": "markdown",
   "id": "352c1e98",
   "metadata": {},
   "source": [
    "## 15.2.3: Visualizing the Data:\n",
    "The idea is to get a sense of what the data actually looks like by displaying it. We are able to do matplotlib implot function to return subplots and axes objects in a two-dimensional NumPy array."
   ]
  },
  {
   "cell_type": "code",
   "execution_count": 11,
   "id": "eaad5142",
   "metadata": {},
   "outputs": [
    {
     "data": {
      "image/png": "[encoded data removed]",
      "text/plain": [
       "<Figure size 600x400 with 24 Axes>"
      ]
     },
     "metadata": {},
     "output_type": "display_data"
    }
   ],
   "source": [
    "figure, axes = plt.subplots(nrows=4, ncols=6, figsize=(6,4))"
   ]
  },
  {
   "cell_type": "markdown",
   "id": "0b0fd5c3",
   "metadata": {},
   "source": [
    "## Displaying Each Image & Removing the Axes Labels:\n",
    "Using a for statment with a built in zip function to iterate in parallel through the 24 axes objects, the first 24 images in digits.images and the first 24 values in digits.target. NumPy array creates a one-dimensional view of a multidimensional array. Each tuple zip produces contains elements from the same index of each of zip's arguments and that argument with the fewest elements determines how many tuples zip returns. "
   ]
  },
  {
   "cell_type": "code",
   "execution_count": 12,
   "id": "cd0b40e1",
   "metadata": {},
   "outputs": [
    {
     "data": {
      "text/plain": [
       "<Figure size 640x480 with 0 Axes>"
      ]
     },
     "metadata": {},
     "output_type": "display_data"
    }
   ],
   "source": [
    "for item in zip(axes.ravel(), digits.images, digits.target):\n",
    "    axes, image, target = item\n",
    "    axes.imshow(image, cmap=plt.cm.gray_r)\n",
    "    axes.set_xticks([])\n",
    "    axes.set_yticks([])\n",
    "    axes.set_title(target)\n",
    "plt.tight_layout()"
   ]
  },
  {
   "cell_type": "markdown",
   "id": "854e4229",
   "metadata": {},
   "source": [
    "##  15.2.4: Split Data for Training & Testing:\n",
    "Typically training a machine-learning model with a subset of a dataset, the more data you have for trianing, the better. It is also important to set data aside for testin a swell, so that its possible to assess a model's performance using data that the model has not yet seen. This is why w create a training set and a testing set.\n",
    "\n",
    "The train_test_split from the sklearn.model_selection module shuffles the data to randomize it, then splits the samples in the data array and the target values in the target array into training and testing sets.\n",
    "\n",
    "The samples are divided evenly among classes, this is the ase for each scikit-learn's bundled classification datasets. "
   ]
  },
  {
   "cell_type": "code",
   "execution_count": 13,
   "id": "d67ff82b",
   "metadata": {},
   "outputs": [],
   "source": [
    "X_train, X_test, y_train, y_test = train_test_split(digits.data, digits.target, random_state=11)"
   ]
  },
  {
   "cell_type": "code",
   "execution_count": 14,
   "id": "3134e7a0",
   "metadata": {},
   "outputs": [
    {
     "data": {
      "text/plain": [
       "(1347, 64)"
      ]
     },
     "execution_count": 14,
     "metadata": {},
     "output_type": "execute_result"
    }
   ],
   "source": [
    "X_train.shape"
   ]
  },
  {
   "cell_type": "code",
   "execution_count": 15,
   "id": "688277e5",
   "metadata": {},
   "outputs": [
    {
     "data": {
      "text/plain": [
       "(450, 64)"
      ]
     },
     "execution_count": 15,
     "metadata": {},
     "output_type": "execute_result"
    }
   ],
   "source": [
    "X_test.shape"
   ]
  },
  {
   "cell_type": "markdown",
   "id": "89fd361f",
   "metadata": {},
   "source": [
    "##  15.2.5: Creating the Model & Training the Model: \n",
    "The KNeighborsClassifier estimator impliments the nearest neightbors algorithm. Then we use the fit method, which loads the sample training set (x_train) and target training set (y_train) into the estimator. The fit method loads the data into the estimator then uses that data to perform complex calculations behind the scenes that learn from the data and train the model. This method loads the data into the estimator because k-NN actually has no initial learning process. "
   ]
  },
  {
   "cell_type": "code",
   "execution_count": 78,
   "id": "4b7c2544",
   "metadata": {
    "scrolled": false
   },
   "outputs": [],
   "source": [
    "from sklearn.neighbors import KNeighborsClassifier\n",
    "knn = KNeighborsClassifier()"
   ]
  },
  {
   "cell_type": "code",
   "execution_count": 79,
   "id": "7e394a79",
   "metadata": {
    "scrolled": false
   },
   "outputs": [
    {
     "data": {
      "text/plain": [
       "KNeighborsClassifier()"
      ]
     },
     "execution_count": 79,
     "metadata": {},
     "output_type": "execute_result"
    }
   ],
   "source": [
    "knn.fit(X=X_train, y=y_train)"
   ]
  },
  {
   "cell_type": "markdown",
   "id": "8bec2e07",
   "metadata": {},
   "source": [
    "### 15.2.7: Predicting Digit Classes:\n",
    "We then load the data into the KNeighborsClassifier we can use it with the test samples to make predictions. Calling the estimator's predict method with X_test as an argument returns an array containing the predicted class of each test image. \n",
    "\n",
    "The list wrong uses zip to create tuples containg the corresponding elements in predicted and expected. We include a tuple in the result only if its p and e differ, meaning the predicted value was incorrect. "
   ]
  },
  {
   "cell_type": "code",
   "execution_count": 80,
   "id": "e1a8cc11",
   "metadata": {},
   "outputs": [],
   "source": [
    "predicted = knn.predict(X=X_test)"
   ]
  },
  {
   "cell_type": "code",
   "execution_count": 74,
   "id": "948ef2de",
   "metadata": {},
   "outputs": [],
   "source": [
    "expected = y_test"
   ]
  },
  {
   "cell_type": "code",
   "execution_count": 75,
   "id": "51d175f7",
   "metadata": {},
   "outputs": [
    {
     "data": {
      "text/plain": [
       "array([0, 4, 9, 9, 3, 1, 4, 1, 5, 0, 4, 9, 4, 1, 5, 3, 3, 8, 5, 6])"
      ]
     },
     "execution_count": 75,
     "metadata": {},
     "output_type": "execute_result"
    }
   ],
   "source": [
    "predicted[:20]"
   ]
  },
  {
   "cell_type": "code",
   "execution_count": 76,
   "id": "31dc85a0",
   "metadata": {},
   "outputs": [
    {
     "data": {
      "text/plain": [
       "array([0, 4, 9, 9, 3, 1, 4, 1, 5, 0, 4, 9, 4, 1, 5, 3, 3, 8, 3, 6])"
      ]
     },
     "execution_count": 76,
     "metadata": {},
     "output_type": "execute_result"
    }
   ],
   "source": [
    "expected[:20]"
   ]
  },
  {
   "cell_type": "code",
   "execution_count": 77,
   "id": "0b1ca36b",
   "metadata": {},
   "outputs": [],
   "source": [
    "wrong = [(p, e) for (p, e) in zip(predicted, expected) if p != e]"
   ]
  },
  {
   "cell_type": "code",
   "execution_count": 23,
   "id": "8a013734",
   "metadata": {},
   "outputs": [
    {
     "data": {
      "text/plain": [
       "[(5, 3),\n",
       " (8, 9),\n",
       " (4, 9),\n",
       " (7, 3),\n",
       " (7, 4),\n",
       " (2, 8),\n",
       " (9, 8),\n",
       " (3, 8),\n",
       " (3, 8),\n",
       " (1, 8)]"
      ]
     },
     "execution_count": 23,
     "metadata": {},
     "output_type": "execute_result"
    }
   ],
   "source": [
    "wrong"
   ]
  },
  {
   "cell_type": "markdown",
   "id": "1fb47db4",
   "metadata": {},
   "source": [
    "## 15.3: Case Study: Classified with k-Nearest Neightbors Pt. 2\n",
    "### Metrics for Model Accuracy:\n",
    "\n",
    "We can use estimator as a score method that returns an indication of how well the estimator performs for the test data you pass as arguments. For classification estimators, this method returns the prediction accuracy for the test data."
   ]
  },
  {
   "cell_type": "code",
   "execution_count": 81,
   "id": "1b3ef66d",
   "metadata": {},
   "outputs": [
    {
     "name": "stdout",
     "output_type": "stream",
     "text": [
      "97.78%\n"
     ]
    }
   ],
   "source": [
    "print(f'{knn.score(X_test, y_test):.2%}')"
   ]
  },
  {
   "cell_type": "markdown",
   "id": "af38b6a5",
   "metadata": {},
   "source": [
    "The confusion matrixchecks a classification estimator's accuracy through a confusion matriz, which shows the correct and incrrect predicted values for a given class. The y_true keyword argument specifies the test samples' actual classes. People looked at the dataset's images an labeled them with specific classes. The y_pred keyword argument specifies the predicted digits for those test images. The confusion matriz produced by the call, the correct predictions are shown on the diagonal from the top - left to bottom -right. This is called the principal diagonal, the nonzero values that are not on the principal diagonal indicat incorrect predictions."
   ]
  },
  {
   "cell_type": "code",
   "execution_count": 25,
   "id": "8fbc6144",
   "metadata": {
    "scrolled": true
   },
   "outputs": [],
   "source": [
    "confusion = confusion_matrix(y_true=expected, y_pred=predicted)"
   ]
  },
  {
   "cell_type": "code",
   "execution_count": 26,
   "id": "f6656647",
   "metadata": {},
   "outputs": [
    {
     "data": {
      "text/plain": [
       "array([[45,  0,  0,  0,  0,  0,  0,  0,  0,  0],\n",
       "       [ 0, 45,  0,  0,  0,  0,  0,  0,  0,  0],\n",
       "       [ 0,  0, 54,  0,  0,  0,  0,  0,  0,  0],\n",
       "       [ 0,  0,  0, 42,  0,  1,  0,  1,  0,  0],\n",
       "       [ 0,  0,  0,  0, 49,  0,  0,  1,  0,  0],\n",
       "       [ 0,  0,  0,  0,  0, 38,  0,  0,  0,  0],\n",
       "       [ 0,  0,  0,  0,  0,  0, 42,  0,  0,  0],\n",
       "       [ 0,  0,  0,  0,  0,  0,  0, 45,  0,  0],\n",
       "       [ 0,  1,  1,  2,  0,  0,  0,  0, 39,  1],\n",
       "       [ 0,  0,  0,  0,  1,  0,  0,  0,  1, 41]], dtype=int64)"
      ]
     },
     "execution_count": 26,
     "metadata": {},
     "output_type": "execute_result"
    }
   ],
   "source": [
    "confusion"
   ]
  },
  {
   "cell_type": "markdown",
   "id": "0814b510",
   "metadata": {},
   "source": [
    "### Classification Report:\n",
    "The module also provides function classification_report, which produces a table of classification metrics based on expected and predicte values. Precision is the total number of correct predictions given digit divided the total number of predictions of the digit.\n",
    "\n",
    "The recall is the total number of correct predictions for a given digit divided by the total number of samples that should have been predicted as that digit.\n",
    "\n",
    "f1-score, thsi is the average of the precision and the recall.\n",
    "\n",
    "Support is the number of samples with a given expected value."
   ]
  },
  {
   "cell_type": "code",
   "execution_count": 27,
   "id": "df0a67d1",
   "metadata": {},
   "outputs": [],
   "source": [
    "name = [str(digit) for digit in digits.target_names]"
   ]
  },
  {
   "cell_type": "code",
   "execution_count": 28,
   "id": "1db07c7a",
   "metadata": {
    "scrolled": true
   },
   "outputs": [
    {
     "name": "stdout",
     "output_type": "stream",
     "text": [
      "              precision    recall  f1-score   support\n",
      "\n",
      "           0       1.00      1.00      1.00        45\n",
      "           1       0.98      1.00      0.99        45\n",
      "           2       0.98      1.00      0.99        54\n",
      "           3       0.95      0.95      0.95        44\n",
      "           4       0.98      0.98      0.98        50\n",
      "           5       0.97      1.00      0.99        38\n",
      "           6       1.00      1.00      1.00        42\n",
      "           7       0.96      1.00      0.98        45\n",
      "           8       0.97      0.89      0.93        44\n",
      "           9       0.98      0.95      0.96        43\n",
      "\n",
      "    accuracy                           0.98       450\n",
      "   macro avg       0.98      0.98      0.98       450\n",
      "weighted avg       0.98      0.98      0.98       450\n",
      "\n"
     ]
    }
   ],
   "source": [
    "print(classification_report(expected, predicted, target_names=name))"
   ]
  },
  {
   "cell_type": "markdown",
   "id": "dd18d85c",
   "metadata": {},
   "source": [
    "### Visualzing the Confusion Matrix:\n",
    "The following heat map displays values as colors, oftenw ith values of higher magnitude displayed as more intense colors. This is using seaborn's graphing feature to more with two-dimensional data. Seaborn automatically labels its visualizations using the column names and row indicies. The heatmap creates a head map from the specified DataFrame. The keyword argument annot=True, displays the color bar to the right. When displaying confusion matrix as a heat map, the principal diagonal and the incorrect predictions stand out. "
   ]
  },
  {
   "cell_type": "code",
   "execution_count": 29,
   "id": "35547c30",
   "metadata": {},
   "outputs": [],
   "source": [
    "import pandas as pd\n",
    "import seaborn as sns"
   ]
  },
  {
   "cell_type": "code",
   "execution_count": 30,
   "id": "2c469e9e",
   "metadata": {
    "scrolled": true
   },
   "outputs": [],
   "source": [
    "confusion_df = pd.DataFrame(confusion, index=range(10), columns=range(10))"
   ]
  },
  {
   "cell_type": "code",
   "execution_count": 31,
   "id": "1e605d8c",
   "metadata": {},
   "outputs": [
    {
     "data": {
      "image/png": "[encoded data removed]",
      "text/plain": [
       "<Figure size 640x480 with 2 Axes>"
      ]
     },
     "metadata": {},
     "output_type": "display_data"
    }
   ],
   "source": [
    "axes = sns.heatmap(confusion_df, annot=True, cmap='nipy_spectral_r')"
   ]
  },
  {
   "cell_type": "markdown",
   "id": "e5c6e154",
   "metadata": {},
   "source": [
    "## 15.3.2: K-Folds:\n",
    "K-fold cross validation enables the use of all data for both traing and testing, to get a better sense of how well the model will make preditions for new data by repeatedly training and testing the model with different portions of the dataset. This is done with 10 sucessive training and testing cycles:\n",
    "\n",
    "    1. Train with folds 1-9, then test wight fold 10\n",
    "    2. Train with folds 1-8 and 10, then test with fold 9\n",
    "    3. we'd train with folds 1-7 and 9-10 then test with fold 8\n",
    "Scikit-learn provides the KFold class and the cross_val_score function to help perform the training and testing cycles. This is when the k-fold cross validation with the Digits dataset and the KNeightborsClassifier created earlier. The keyword arguments are:\n",
    "    \n",
    "    * n_splits=10, which specifices the number of folds.\n",
    "    * random_state=11, which seeds the random number generator for reproductibility.\n",
    "    * shuffle=True, causes the KFold object to randomize the data by shuffling it before splitting it into folds. This is critical if the samples might be fordered or grouped.\n",
    "### Using KFold Object with Function cross_val_score:\n",
    "These keyword arguments are:\n",
    "\n",
    "    * estimator=knn, which specifies the setimator you'd like to validate.\n",
    "    * X=digits.data, which specifies the samples to use for training and testing.\n",
    "    * y=digits.target, which specifies the target predicitons for the samples. \n",
    "    * cv=fold, which specifies the corss-validation generator that defines how to split the samples and targets for training and testing. "
   ]
  },
  {
   "cell_type": "code",
   "execution_count": 32,
   "id": "1256704d",
   "metadata": {},
   "outputs": [],
   "source": [
    "from sklearn.model_selection import KFold"
   ]
  },
  {
   "cell_type": "code",
   "execution_count": 33,
   "id": "9f23f3b2",
   "metadata": {},
   "outputs": [],
   "source": [
    "kfold = KFold(n_splits=10, random_state=11, shuffle=True)"
   ]
  },
  {
   "cell_type": "markdown",
   "id": "929e04de",
   "metadata": {},
   "source": [
    "### KFold Objects with Function cross_val_score:"
   ]
  },
  {
   "cell_type": "code",
   "execution_count": 34,
   "id": "c5e12558",
   "metadata": {},
   "outputs": [],
   "source": [
    "from sklearn.model_selection import cross_val_score"
   ]
  },
  {
   "cell_type": "code",
   "execution_count": 35,
   "id": "a1a371de",
   "metadata": {
    "scrolled": true
   },
   "outputs": [],
   "source": [
    "scores = cross_val_score(estimator=knn, X=digits.data, y=digits.target, cv=kfold)"
   ]
  },
  {
   "cell_type": "code",
   "execution_count": 36,
   "id": "8254b50e",
   "metadata": {},
   "outputs": [
    {
     "data": {
      "text/plain": [
       "array([0.97777778, 0.99444444, 0.98888889, 0.97777778, 0.98888889,\n",
       "       0.99444444, 0.97777778, 0.98882682, 1.        , 0.98882682])"
      ]
     },
     "execution_count": 36,
     "metadata": {},
     "output_type": "execute_result"
    }
   ],
   "source": [
    "scores"
   ]
  },
  {
   "cell_type": "code",
   "execution_count": 37,
   "id": "9f711a3e",
   "metadata": {},
   "outputs": [
    {
     "name": "stdout",
     "output_type": "stream",
     "text": [
      "Mean accuracy: 98.78%\n"
     ]
    }
   ],
   "source": [
    "print(f'Mean accuracy: {scores.mean():.2%}')"
   ]
  },
  {
   "cell_type": "code",
   "execution_count": 38,
   "id": "54703e9f",
   "metadata": {},
   "outputs": [
    {
     "name": "stdout",
     "output_type": "stream",
     "text": [
      "Accuracy standard deviation: 0.74%\n"
     ]
    }
   ],
   "source": [
    "print(f'Accuracy standard deviation: {scores.std():.2%}')"
   ]
  },
  {
   "cell_type": "markdown",
   "id": "32aa8df4",
   "metadata": {},
   "source": [
    "## 15.3.3: Running Multiple Models fo Find the Best One:\n",
    "It's difficult to know in advance which machine learning model will perform best for given dataset, especially when they hide the details of how they operate from their users. Even though the KNeighborsClassifier predicts digital images with a high degree of accuracy, it's possible to that other scikit-learn estimators are even more accurate. "
   ]
  },
  {
   "cell_type": "code",
   "execution_count": 39,
   "id": "cc4a228d",
   "metadata": {},
   "outputs": [],
   "source": [
    "from sklearn.svm import SVC"
   ]
  },
  {
   "cell_type": "code",
   "execution_count": 40,
   "id": "b66413b3",
   "metadata": {
    "scrolled": true
   },
   "outputs": [],
   "source": [
    "from sklearn.naive_bayes import GaussianNB"
   ]
  },
  {
   "cell_type": "code",
   "execution_count": 41,
   "id": "62f41050",
   "metadata": {},
   "outputs": [],
   "source": [
    "estimators = {\n",
    "    'KNeighborsClassifier': knn,\n",
    "    'SVC': SVC(gamma='scale'),\n",
    "    'GaussianNB': GaussianNB()}"
   ]
  },
  {
   "cell_type": "markdown",
   "id": "1dc3f4a6",
   "metadata": {},
   "source": [
    "Now exicuting the model."
   ]
  },
  {
   "cell_type": "code",
   "execution_count": 67,
   "id": "4349ad52",
   "metadata": {},
   "outputs": [
    {
     "name": "stdout",
     "output_type": "stream",
     "text": [
      "KNeighborsClassifier: mean accuracy=98.78%; standard deviation=0.74%\n",
      "                 SVC: mean accuracy=98.72%; standard deviation=0.79%\n",
      "          GaussianNB: mean accuracy=84.48%; standard deviation=3.47%\n"
     ]
    }
   ],
   "source": [
    "for estimator_name, estimator_object in estimators.items():\n",
    "    kfold = KFold(n_splits=10, random_state=11, shuffle=True)\n",
    "    scores = cross_val_score(estimator=estimator_object,\n",
    "                            X=digits.data, y=digits.target, cv=kfold)\n",
    "    print(f'{estimator_name:>20}: ' +\n",
    "          f'mean accuracy={scores.mean():.2%}; ' +\n",
    "          f'standard deviation={scores.std():.2%}')"
   ]
  },
  {
   "cell_type": "markdown",
   "id": "2d1f1ff9",
   "metadata": {},
   "source": [
    "The loop iterates through items in the estimators dictionary and for each key-value pair performs the following tests:\n",
    "\n",
    "    a. Unpacks the key into estimator_name and value into estimator_object\n",
    "    b. Creates a KFold object that shuffles the data and prodcues 10 folds. The keyword argument random_state is particularly important here because it ensures that each estimator works with identifcal folds.\n",
    "    c. Evaluates the current estimator_object using cross_val_score.\n",
    "    d. Prints the estimator's name, follwoed by the mean and standard deviation of the accuracy scores' computed for each of the 10 folds. "
   ]
  },
  {
   "cell_type": "markdown",
   "id": "ecf21ad4",
   "metadata": {},
   "source": [
    "## 15.3.4: Hyperparameter Turning:\n",
    "Hyperparameters are set before using the algorithm to train the model. When applied in the real-world machine learning studeies, the hyperparameter tuning to choose hyperparemeter values that produce the best possible preditions. To determine the best value for k in the kNN algorithm, try different values of k then compare the estimaor's performance with each. The k value 1 in kNN produces the most accurate predictions for the Digits dataset. \n",
    "\n",
    "It is important to know your data dn know your roots. The examplecompute time grows rapidly with k, because k-NN needs to perform more calculations to find the nearest neighbors. "
   ]
  },
  {
   "cell_type": "code",
   "execution_count": 42,
   "id": "d209d2bf",
   "metadata": {
    "scrolled": true
   },
   "outputs": [
    {
     "name": "stdout",
     "output_type": "stream",
     "text": [
      "k=1 ; mean accuracy=98.83%; standard deviation=0.58%\n",
      "k=3 ; mean accuracy=98.83%; standard deviation=0.72%\n",
      "k=5 ; mean accuracy=98.78%; standard deviation=0.74%\n",
      "k=7 ; mean accuracy=98.44%; standard deviation=0.96%\n",
      "k=9 ; mean accuracy=98.39%; standard deviation=0.80%\n",
      "k=11; mean accuracy=98.33%; standard deviation=0.90%\n",
      "k=13; mean accuracy=97.89%; standard deviation=0.89%\n",
      "k=15; mean accuracy=97.83%; standard deviation=0.95%\n",
      "k=17; mean accuracy=97.50%; standard deviation=1.00%\n",
      "k=19; mean accuracy=97.66%; standard deviation=0.96%\n"
     ]
    }
   ],
   "source": [
    "for k in range(1, 20, 2):\n",
    "    kfold = KFold(n_splits=10, random_state=11, shuffle=True)\n",
    "    knn = KNeighborsClassifier(n_neighbors=k)\n",
    "    scores = cross_val_score(estimator=knn,\n",
    "                            X=digits.data, y=digits.target, cv=kfold)\n",
    "    print(f'k={k:<2}; mean accuracy={scores.mean():.2%}; ' +\n",
    "          f'standard deviation={scores.std():.2%}')"
   ]
  }
 ],
 "metadata": {
  "kernelspec": {
   "display_name": "Python 3 (ipykernel)",
   "language": "python",
   "name": "python3"
  },
  "language_info": {
   "codemirror_mode": {
    "name": "ipython",
    "version": 3
   },
   "file_extension": ".py",
   "mimetype": "text/x-python",
   "name": "python",
   "nbconvert_exporter": "python",
   "pygments_lexer": "ipython3",
   "version": "3.9.13"
  }
 },
 "nbformat": 4,
 "nbformat_minor": 5
}
